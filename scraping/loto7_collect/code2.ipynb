{
 "cells": [
  {
   "cell_type": "code",
   "execution_count": 1,
   "id": "94931171",
   "metadata": {},
   "outputs": [],
   "source": [
    "#要素の総数\n",
    "import numpy as np\n",
    "import pandas as pd\n",
    "import seaborn as sns\n",
    "import matplotlib.pyplot as plt"
   ]
  },
  {
   "cell_type": "code",
   "execution_count": 5,
   "id": "98aad9d1",
   "metadata": {},
   "outputs": [],
   "source": [
    "#random.choiceによる指定確率\n",
    "from decimal import Decimal\n",
    "\n",
    "element_list = [\"1\",\"2\",\"3\",\"4\",\"5\",\"6\",\"7\",\"8\",\"9\",\"10\",\n",
    "                \"11\",\"12\",\"13\",\"14\",\"15\",\"16\",\"17\",\"18\",\"19\",\"20\",\n",
    "                \"21\",\"22\",\"23\",\"24\",\"25\",\"26\",\"27\",\"28\",\"29\",\"30\",\n",
    "                \"31\",\"32\",\"33\",\"34\",\"35\",\"36\",\"37\"]\n",
    "\n",
    "#percentを1にするために、割合の低い物の出る確率を上げる\n",
    "#Decimalでfloatの丸め誤差をなくす\n",
    "# 12(0.021→0.022)\n",
    "prob_list = [Decimal(\"0.026\"),Decimal(\"0.023\"),Decimal(\"0.026\"),Decimal(\"0.03\"),Decimal(\"0.023\"),Decimal(\"0.029\"),Decimal(\"0.027\"),Decimal(\"0.027\"),Decimal(\"0.032\"),Decimal(\"0.029\"),\n",
    "             Decimal(\"0.028\"),Decimal(\"0.022\"),Decimal(\"0.03\"),Decimal(\"0.027\"),Decimal(\"0.034\"),Decimal(\"0.022\"),Decimal(\"0.028\"),Decimal(\"0.025\"),Decimal(\"0.023\"),Decimal(\"0.025\"),\n",
    "             Decimal(\"0.029\"),Decimal(\"0.026\"),Decimal(\"0.03\"),Decimal(\"0.028\"),Decimal(\"0.022\"),Decimal(\"0.028\"),Decimal(\"0.029\"),Decimal(\"0.029\"),Decimal(\"0.025\"),Decimal(\"0.03\"),\n",
    "             Decimal(\"0.028\"),Decimal(\"0.027\"),Decimal(\"0.024\"),Decimal(\"0.029\"),Decimal(\"0.03\"),Decimal(\"0.029\"),Decimal(\"0.021\")]\n",
    "\n",
    "#元の確率(1.0290000000000006)\n",
    "#a=(0.026+0.023+0.026+0.03+0.023+0.029+0.027+0.027+0.032+0.029+\n",
    "     #0.028+0.021+0.03+0.027+0.034+0.022+0.028+0.025+0.023+0.025+\n",
    "     #0.029+0.026+0.03+0.028+0.022+0.028+0.029+0.029+0.025+0.03+\n",
    "     #0.03+0.028+0.027+0.024+0.029+0.03+0.029+0.021)\n",
    "#print(a)\n",
    "\n",
    "#list作成\n",
    "tmp=[]\n",
    "t_list=[]\n",
    "\n",
    "#複数分作る場合は、新たなt_listを作りwhileの文をcopyする\n",
    "while len(t_list)<7:\n",
    "    tmp=(np.random.choice(a=element_list, size=1, p=prob_list))\n",
    "    if not tmp in t_list:\n",
    "        t_list=np.append(t_list,tmp)\n",
    "    \n",
    "df=pd.DataFrame(t_list)\n",
    "df.to_csv(\"code2.csv\")\n",
    "\n",
    "\n"
   ]
  },
  {
   "cell_type": "code",
   "execution_count": null,
   "id": "8637eb79",
   "metadata": {},
   "outputs": [],
   "source": []
  },
  {
   "cell_type": "code",
   "execution_count": null,
   "id": "199d872c",
   "metadata": {},
   "outputs": [],
   "source": []
  },
  {
   "cell_type": "code",
   "execution_count": null,
   "id": "7f66cea4",
   "metadata": {},
   "outputs": [],
   "source": []
  },
  {
   "cell_type": "code",
   "execution_count": null,
   "id": "c714539e",
   "metadata": {},
   "outputs": [],
   "source": []
  },
  {
   "cell_type": "code",
   "execution_count": null,
   "id": "99a476bb",
   "metadata": {},
   "outputs": [],
   "source": []
  },
  {
   "cell_type": "code",
   "execution_count": null,
   "id": "40314527",
   "metadata": {},
   "outputs": [],
   "source": []
  }
 ],
 "metadata": {
  "kernelspec": {
   "display_name": "Python 3",
   "language": "python",
   "name": "python3"
  },
  "language_info": {
   "codemirror_mode": {
    "name": "ipython",
    "version": 3
   },
   "file_extension": ".py",
   "mimetype": "text/x-python",
   "name": "python",
   "nbconvert_exporter": "python",
   "pygments_lexer": "ipython3",
   "version": "3.8.8"
  }
 },
 "nbformat": 4,
 "nbformat_minor": 5
}
