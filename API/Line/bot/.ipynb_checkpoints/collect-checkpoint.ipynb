{
 "cells": [
  {
   "cell_type": "code",
   "execution_count": 1,
   "metadata": {},
   "outputs": [],
   "source": [
    "#pythonで準備されてるライブラリー\n",
    "import os\n",
    "from time import sleep\n",
    "\n",
    "#別途でインストールするライブラリー\n",
    "import pandas as pd\n",
    "import requests\n",
    "\n",
    "DIR=\"./images/\"\n",
    "\n",
    "#CSVの読み込み\n",
    "df=pd.read_csv(\"/Users/tasuke0630/making/API/Line/bot/dio.csv\")\n",
    "\n",
    "#directoryの確認\n",
    "if os.path.isdir(DIR):\n",
    "    print(\"既にあります\")\n",
    "else:\n",
    "    #特定の場所にディレクトリを作る\n",
    "    os.chdir(\"/Users/tasuke0630/making/API/Line/bot\")\n",
    "    os.makedirs(IMAGE_DIR)\n",
    "\n",
    "#画像の保存(先頭から120個)\n",
    "for name,img_url in zip(df.name[:120],df.img_url[:120]):\n",
    "    image=requests.get(img_url)\n",
    "    with open(DIR+name+'.jpg','wb') as f:\n",
    "        f.write(image.content)\n",
    "\n",
    "    sleep(1)"
   ]
  },
  {
   "cell_type": "code",
   "execution_count": null,
   "metadata": {},
   "outputs": [],
   "source": []
  }
 ],
 "metadata": {
  "kernelspec": {
   "display_name": "Python 3",
   "language": "python",
   "name": "python3"
  },
  "language_info": {
   "codemirror_mode": {
    "name": "ipython",
    "version": 3
   },
   "file_extension": ".py",
   "mimetype": "text/x-python",
   "name": "python",
   "nbconvert_exporter": "python",
   "pygments_lexer": "ipython3",
   "version": "3.8.8"
  }
 },
 "nbformat": 4,
 "nbformat_minor": 4
}
