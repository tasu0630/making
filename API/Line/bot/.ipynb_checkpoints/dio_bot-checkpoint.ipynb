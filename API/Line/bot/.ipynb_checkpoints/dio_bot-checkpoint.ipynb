{
 "cells": [
  {
   "cell_type": "code",
   "execution_count": 1,
   "metadata": {},
   "outputs": [],
   "source": [
    "import requests\n",
    "from time import sleep\n",
    "import random\n",
    "from bs4 import BeautifulSoup\n",
    "import pandas as pd\n",
    "import random\n",
    "import glob\n",
    "import math"
   ]
  },
  {
   "cell_type": "code",
   "execution_count": 2,
   "metadata": {},
   "outputs": [],
   "source": [
    "#取得したトークン\n",
    "TOKEN=\"h74xEJCKamDZ8PRCeUjG1Kg3bhXetyXvGBYrSmyTDvn\"\n",
    "#APIのURL\n",
    "api_url=\"https://notify-api.line.me/api/notify\""
   ]
  },
  {
   "cell_type": "code",
   "execution_count": 3,
   "metadata": {},
   "outputs": [
    {
     "name": "stdout",
     "output_type": "stream",
     "text": [
      "42\n",
      "98\n"
     ]
    }
   ],
   "source": [
    "#名言を抽出\n",
    "\n",
    "url = 'https://festy.jp/web/posts/4763'\n",
    "r=requests.get(url)\n",
    "sleep(1)\n",
    "\n",
    "d_list=[]\n",
    "tmp=[]\n",
    "tmp_list=[]\n",
    "\n",
    "soup = BeautifulSoup(r.text)\n",
    "contents=soup.find_all(\"span\")\n",
    "for content in contents:\n",
    "    detail=content.text\n",
    "    \n",
    "    tmp.append(detail)\n",
    "    \n",
    "i=15\n",
    "while i<117:\n",
    "    tmp_list.append(tmp[i])\n",
    "    i+=1\n",
    "\n",
    "#要らない部分を削除\n",
    "j=0\n",
    "while j<102:\n",
    "    if j==42:\n",
    "        print(j)\n",
    "        \n",
    "    elif j==98:\n",
    "        print(j)\n",
    "        \n",
    "    else:\n",
    "        d_list.append(tmp_list[j])\n",
    "    \n",
    "    j+=1"
   ]
  },
  {
   "cell_type": "code",
   "execution_count": 10,
   "metadata": {},
   "outputs": [
    {
     "data": {
      "text/plain": [
       "<Response [200]>"
      ]
     },
     "execution_count": 10,
     "metadata": {},
     "output_type": "execute_result"
    }
   ],
   "source": [
    "#情報を辞書型にする\n",
    "\n",
    "TOKEN_dic={\"Authorization\": \"Bearer\" + \" \" + TOKEN}\n",
    "\n",
    "i=random.randint(0,99)\n",
    "send_dic={\"message\": d_list[i]}\n",
    "\n",
    "\n",
    "word=\"/Users/tasuke0630/making/API/Line/bot/images/dio_\"\n",
    "\n",
    "#フォルダ内の画像のパス\n",
    "files=glob.glob(word + '*.jpg')\n",
    "\n",
    "#ランダムに画像を一つ選ぶ（list型）\n",
    "random_sample_file=random.sample(files,math.ceil(len(files)/22))\n",
    "#list→str\n",
    "path=random_sample_file[0]\n",
    "\n",
    "#バイナリーデータで読みこむ\n",
    "binary=open(path,mode=\"rb\")\n",
    "#指定の辞書形にする\n",
    "image_dic={\"imageFile\": binary}\n",
    "\n",
    "#LINE通知（２００＝成功、４００＝リクエストが不正、４０１＝アクセストークンが無効）\n",
    "requests.post(api_url,headers=TOKEN_dic,files=image_dic,data=send_dic)"
   ]
  },
  {
   "cell_type": "code",
   "execution_count": null,
   "metadata": {},
   "outputs": [],
   "source": []
  },
  {
   "cell_type": "code",
   "execution_count": null,
   "metadata": {},
   "outputs": [],
   "source": []
  }
 ],
 "metadata": {
  "kernelspec": {
   "display_name": "Python 3",
   "language": "python",
   "name": "python3"
  },
  "language_info": {
   "codemirror_mode": {
    "name": "ipython",
    "version": 3
   },
   "file_extension": ".py",
   "mimetype": "text/x-python",
   "name": "python",
   "nbconvert_exporter": "python",
   "pygments_lexer": "ipython3",
   "version": "3.8.5"
  }
 },
 "nbformat": 4,
 "nbformat_minor": 4
}
