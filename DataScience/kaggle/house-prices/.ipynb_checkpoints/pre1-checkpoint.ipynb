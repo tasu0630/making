{
 "cells": [
  {
   "cell_type": "code",
   "execution_count": 3,
   "metadata": {},
   "outputs": [],
   "source": [
    "# ライブラリにインポート\n",
    "import numpy as np\n",
    "import pandas as pd\n",
    "\n",
    "import matplotlib.pyplot as plt\n",
    "import seaborn as sns\n",
    "sns.set()\n",
    "\n",
    "from sklearn import tree"
   ]
  },
  {
   "cell_type": "code",
   "execution_count": 4,
   "metadata": {},
   "outputs": [],
   "source": [
    "# 学習データの読み込み\n",
    "train_df=pd.read_csv(\"/Users/tasuke0630/python/DataScience/kaggle/house-prices/train.csv\")\n",
    "\n",
    "# テストデータの読み込み\n",
    "test_df=pd.read_csv(\"/Users/tasuke0630/python/DataScience/kaggle/house-prices/test.csv\")"
   ]
  },
  {
   "cell_type": "code",
   "execution_count": 5,
   "metadata": {},
   "outputs": [
    {
     "name": "stdout",
     "output_type": "stream",
     "text": [
      "   Id  MSSubClass MSZoning  LotFrontage  LotArea Street Alley LotShape  \\\n",
      "0   1          60       RL         65.0     8450   Pave   NaN      Reg   \n",
      "1   2          20       RL         80.0     9600   Pave   NaN      Reg   \n",
      "2   3          60       RL         68.0    11250   Pave   NaN      IR1   \n",
      "3   4          70       RL         60.0     9550   Pave   NaN      IR1   \n",
      "4   5          60       RL         84.0    14260   Pave   NaN      IR1   \n",
      "\n",
      "  LandContour Utilities  ... PoolArea PoolQC Fence MiscFeature MiscVal MoSold  \\\n",
      "0         Lvl    AllPub  ...        0    NaN   NaN         NaN       0      2   \n",
      "1         Lvl    AllPub  ...        0    NaN   NaN         NaN       0      5   \n",
      "2         Lvl    AllPub  ...        0    NaN   NaN         NaN       0      9   \n",
      "3         Lvl    AllPub  ...        0    NaN   NaN         NaN       0      2   \n",
      "4         Lvl    AllPub  ...        0    NaN   NaN         NaN       0     12   \n",
      "\n",
      "  YrSold  SaleType  SaleCondition  SalePrice  \n",
      "0   2008        WD         Normal     208500  \n",
      "1   2007        WD         Normal     181500  \n",
      "2   2008        WD         Normal     223500  \n",
      "3   2006        WD        Abnorml     140000  \n",
      "4   2008        WD         Normal     250000  \n",
      "\n",
      "[5 rows x 81 columns]\n"
     ]
    }
   ],
   "source": [
    "print(train_df.head())"
   ]
  },
  {
   "cell_type": "code",
   "execution_count": 6,
   "metadata": {},
   "outputs": [
    {
     "name": "stdout",
     "output_type": "stream",
     "text": [
      "     Id  MSSubClass MSZoning  LotFrontage  LotArea Street Alley LotShape  \\\n",
      "0  1461          20       RH         80.0    11622   Pave   NaN      Reg   \n",
      "1  1462          20       RL         81.0    14267   Pave   NaN      IR1   \n",
      "2  1463          60       RL         74.0    13830   Pave   NaN      IR1   \n",
      "3  1464          60       RL         78.0     9978   Pave   NaN      IR1   \n",
      "4  1465         120       RL         43.0     5005   Pave   NaN      IR1   \n",
      "\n",
      "  LandContour Utilities  ... ScreenPorch PoolArea PoolQC  Fence MiscFeature  \\\n",
      "0         Lvl    AllPub  ...         120        0    NaN  MnPrv         NaN   \n",
      "1         Lvl    AllPub  ...           0        0    NaN    NaN        Gar2   \n",
      "2         Lvl    AllPub  ...           0        0    NaN  MnPrv         NaN   \n",
      "3         Lvl    AllPub  ...           0        0    NaN    NaN         NaN   \n",
      "4         HLS    AllPub  ...         144        0    NaN    NaN         NaN   \n",
      "\n",
      "  MiscVal MoSold  YrSold  SaleType  SaleCondition  \n",
      "0       0      6    2010        WD         Normal  \n",
      "1   12500      6    2010        WD         Normal  \n",
      "2       0      3    2010        WD         Normal  \n",
      "3       0      6    2010        WD         Normal  \n",
      "4       0      1    2010        WD         Normal  \n",
      "\n",
      "[5 rows x 80 columns]\n"
     ]
    }
   ],
   "source": [
    "print(test_df.head())"
   ]
  },
  {
   "cell_type": "code",
   "execution_count": 7,
   "metadata": {},
   "outputs": [],
   "source": [
    "# 学習データとテストデータを連結する\n",
    "df=pd.concat([train_df,test_df],ignore_index=True)\n",
    "#nullのCSV化\n",
    "df_null=df.isnull().sum()\n",
    "df_null.to_csv(\"null.csv\")"
   ]
  },
  {
   "cell_type": "code",
   "execution_count": 8,
   "metadata": {},
   "outputs": [],
   "source": [
    "#null_csvを見ながら,null<100以下のデータの確認\n",
    "#sns.countplot(\"SaleCondition\",data=df)\n",
    "#sns.countplot(\"MSZoning\",data=df)\n",
    "#sns.countplot(\"Utilities\",data=df)\n",
    "#sns.countplot(\"Exterior1st\",data=df)\n",
    "#sns.countplot(\"Exterior2nd\",data=df)\n",
    "#sns.countplot(\"MasVnrType\",data=df)\n",
    "#sns.distplot(df.MasVnrArea)\n",
    "#sns.countplot(\"BsmtQual\",data=df)\n",
    "#sns.countplot(\"BsmtCond\",data=df)\n",
    "#sns.countplot(\"BsmtExposure\",data=df)\n",
    "#sns.countplot(\"BsmtFinType1\",data=df)\n",
    "#sns.distplot(df.BsmtFinSF1)\n",
    "#sns.countplot(\"BsmtFinType2\",data=df)\n",
    "#sns.distplot(df.BsmtFinSF2)\n",
    "#sns.distplot(df.BsmtUnfSF)\n",
    "#sns.distplot(df.TotalBsmtSF)\n",
    "#sns.countplot(\"Electrical\",data=df)\n",
    "#sns.countplot(\"BsmtFullBath\",data=df)\n",
    "#sns.countplot(\"BsmtHalfBath\",data=df)\n",
    "#sns.countplot(\"KitchenQual\",data=df)\n",
    "#sns.countplot(\"Functional\",data=df)\n",
    "#sns.countplot(\"GarageCars\",data=df)\n",
    "#sns.distplot(df.GarageArea)\n",
    "#sns.countplot(\"SaleType\",data=df)"
   ]
  },
  {
   "cell_type": "code",
   "execution_count": 9,
   "metadata": {},
   "outputs": [],
   "source": [
    "# 元データをコピー\n",
    "df2=df.copy()\n",
    "\n",
    "# 欠損値の補完\n",
    "df2.MSZoning=df2.MSZoning.fillna(\"RL\")\n",
    "df2.Utilities=df2.Utilities.fillna(\"AllPub\")\n",
    "df2.Exterior1st=df2.Exterior1st.fillna(\"VinylSd\")\n",
    "df2.Exterior2nd=df2.Exterior2nd.fillna(\"VinylSd\")\n",
    "df2.MasVnrType=df2.MasVnrType.fillna(\"None\")\n",
    "df2.BsmtQual=df2.BsmtQual.fillna(\"TA\")\n",
    "df2.BsmtCond=df2.BsmtCond.fillna(\"TA\")\n",
    "df2.BsmtExposure=df2.BsmtExposure.fillna(\"No\")\n",
    "df2.BsmtFinType1=df2.BsmtFinType1.fillna(\"Unf\")\n",
    "df2.BsmtFinType2=df2.BsmtFinType2.fillna(\"Unf\")\n",
    "df2.Electrical=df2.Electrical.fillna(\"SBrkr\")\n",
    "df2.BsmtFullBath=df2.BsmtFullBath.fillna(0.0)\n",
    "df2.BsmtHalfBath=df2.BsmtHalfBath.fillna(0.0)\n",
    "df2.KitchenQual=df2.KitchenQual.fillna(\"TA\")\n",
    "df2.Functional=df2.Functional.fillna(\"Typ\")\n",
    "df2.GarageCars=df2.GarageCars.fillna(2.0)\n",
    "df2.SaleType=df2.SaleType.fillna(\"WD\")\n",
    "\n",
    "MasVnrArea_mdeian=df2.MasVnrArea.median()\n",
    "df2.MasVnrArea=df2.MasVnrArea.fillna(MasVnrArea_mdeian)\n",
    "\n",
    "BsmtFinSF1_median=df2.BsmtFinSF1.median()\n",
    "df2.BsmtFinSF1=df2.BsmtFinSF1.fillna(BsmtFinSF1_median)\n",
    "\n",
    "BsmtFinSF2_median=df2.BsmtFinSF2.median()\n",
    "df2.BsmtFinSF2=df2.BsmtFinSF2.fillna(BsmtFinSF2_median)\n",
    "\n",
    "BsmtUnfSF_median=df2.BsmtUnfSF.median()\n",
    "df2.BsmtUnfSF=df2.BsmtUnfSF.fillna(BsmtUnfSF_median)\n",
    "\n",
    "TotalBsmtSF_median=df2.TotalBsmtSF.median()\n",
    "df2.TotalBsmtSF=df2.TotalBsmtSF.fillna(TotalBsmtSF_median)\n",
    "\n",
    "GarageArea_median=df2.GarageArea.median()\n",
    "df2.GarageArea=df2.GarageArea.fillna(GarageArea_median)"
   ]
  },
  {
   "cell_type": "code",
   "execution_count": 10,
   "metadata": {},
   "outputs": [],
   "source": [
    "#欠損値の補完後のCSV化\n",
    "df2_null=df2.isnull().sum()\n",
    "df2_null.to_csv(\"null2.csv\")"
   ]
  },
  {
   "cell_type": "code",
   "execution_count": 11,
   "metadata": {},
   "outputs": [],
   "source": [
    "#null>100のcolumnsを消す()\n",
    "df3=df2.copy()\n",
    "\n",
    "df3=df3.drop(columns=[\"LotFrontage\",\"Alley\",\"FireplaceQu\",\"GarageType\",\"GarageYrBlt\",\n",
    "                      \"GarageFinish\",\"GarageQual\",\"GarageCond\",\"PoolQC\",\"GarageCond\",\"PoolQC\",\"Fence\",\"MiscFeature\"])"
   ]
  },
  {
   "cell_type": "code",
   "execution_count": 12,
   "metadata": {},
   "outputs": [],
   "source": [
    "#カテゴリカル変数の数値変換\n",
    "tmp_MSZoning=pd.get_dummies(df3[\"MSZoning\"],prefix=\"MSZoning\")\n",
    "df3=pd.concat([df3,tmp_MSZoning],axis=1).drop(columns=\"MSZoning\")\n",
    "\n",
    "tmp_Street=pd.get_dummies(df3[\"Street\"],prefix=\"Street\")\n",
    "df3=pd.concat([df3,tmp_Street],axis=1).drop(columns=\"Street\")\n",
    "\n",
    "tmp_LotShape=pd.get_dummies(df3[\"LotShape\"],prefix=\"LotShape\")\n",
    "df3=pd.concat([df3,tmp_LotShape],axis=1).drop(columns=\"LotShape\")\n",
    "\n",
    "tmp_LandContour=pd.get_dummies(df3[\"LandContour\"],prefix=\"LandContour\")\n",
    "df3=pd.concat([df3,tmp_LandContour],axis=1).drop(columns=\"LandContour\")\n",
    "\n",
    "tmp_Utilities=pd.get_dummies(df3[\"Utilities\"],prefix=\"Utilities\")\n",
    "df3=pd.concat([df3,tmp_Utilities],axis=1).drop(columns=\"Utilities\")\n",
    "\n",
    "tmp_LotConfig=pd.get_dummies(df3[\"LotConfig\"],prefix=\"LotConfig\")\n",
    "df3=pd.concat([df3,tmp_LotConfig],axis=1).drop(columns=\"LotConfig\")\n",
    "\n",
    "tmp_LandSlope=pd.get_dummies(df3[\"LandSlope\"],prefix=\"LandSlope\")\n",
    "df3=pd.concat([df3,tmp_LandSlope],axis=1).drop(columns=\"LandSlope\")\n",
    "\n",
    "tmp_Neighborhood=pd.get_dummies(df3[\"Neighborhood\"],prefix=\"Neighborhood\")\n",
    "df3=pd.concat([df3,tmp_Neighborhood],axis=1).drop(columns=\"Neighborhood\")\n",
    "\n",
    "tmp_Condition1=pd.get_dummies(df3[\"Condition1\"],prefix=\"Condition1\")\n",
    "df3=pd.concat([df3,tmp_Condition1],axis=1).drop(columns=\"Condition1\")\n",
    "\n",
    "tmp_Condition2=pd.get_dummies(df3[\"Condition2\"],prefix=\"Condition2\")\n",
    "df3=pd.concat([df3,tmp_Condition2],axis=1).drop(columns=\"Condition2\")\n",
    "\n",
    "tmp_BldgType=pd.get_dummies(df3[\"BldgType\"],prefix=\"BldgType\")\n",
    "df3=pd.concat([df3,tmp_BldgType],axis=1).drop(columns=\"BldgType\")\n",
    "\n",
    "tmp_HouseStyle=pd.get_dummies(df3[\"HouseStyle\"],prefix=\"HouseStyle\")\n",
    "df3=pd.concat([df3,tmp_HouseStyle],axis=1).drop(columns=\"HouseStyle\")\n",
    "\n",
    "tmp_RoofStyle=pd.get_dummies(df3[\"RoofStyle\"],prefix=\"RoofStyle\")\n",
    "df3=pd.concat([df3,tmp_RoofStyle],axis=1).drop(columns=\"RoofStyle\")\n",
    "\n",
    "tmp_RoofMatl=pd.get_dummies(df3[\"RoofMatl\"],prefix=\"RoofMatl\")\n",
    "df3=pd.concat([df3,tmp_RoofMatl],axis=1).drop(columns=\"RoofMatl\")\n",
    "\n",
    "tmp_Exterior1st=pd.get_dummies(df3[\"Exterior1st\"],prefix=\"Exterior1st\")\n",
    "df3=pd.concat([df3,tmp_Exterior1st],axis=1).drop(columns=\"Exterior1st\")\n",
    "\n",
    "tmp_Exterior2nd=pd.get_dummies(df3[\"Exterior2nd\"],prefix=\"Exterior2nd\")\n",
    "df3=pd.concat([df3,tmp_Exterior2nd],axis=1).drop(columns=\"Exterior2nd\")\n",
    "\n",
    "tmp_MasVnrType=pd.get_dummies(df3[\"MasVnrType\"],prefix=\"MasVnrType\")\n",
    "df3=pd.concat([df3,tmp_MasVnrType],axis=1).drop(columns=\"MasVnrType\")\n",
    "\n",
    "tmp_ExterQual=pd.get_dummies(df3[\"ExterQual\"],prefix=\"ExterQual\")\n",
    "df3=pd.concat([df3,tmp_ExterQual],axis=1).drop(columns=\"ExterQual\")\n",
    "\n",
    "tmp_ExterCond=pd.get_dummies(df3[\"ExterCond\"],prefix=\"ExterCond\")\n",
    "df3=pd.concat([df3,tmp_ExterCond],axis=1).drop(columns=\"ExterCond\")\n",
    "\n",
    "tmp_Foundation=pd.get_dummies(df3[\"Foundation\"],prefix=\"Foundation\")\n",
    "df3=pd.concat([df3,tmp_Foundation],axis=1).drop(columns=\"Foundation\")\n",
    "\n",
    "tmp_BsmtQual=pd.get_dummies(df3[\"BsmtQual\"],prefix=\"BsmtQual\")\n",
    "df3=pd.concat([df3,tmp_BsmtQual],axis=1).drop(columns=\"BsmtQual\")\n",
    "\n",
    "tmp_BsmtCond=pd.get_dummies(df3[\"BsmtCond\"],prefix=\"BsmtCond\")\n",
    "df3=pd.concat([df3,tmp_BsmtCond],axis=1).drop(columns=\"BsmtCond\")\n",
    "\n",
    "tmp_BsmtExposure=pd.get_dummies(df3[\"BsmtExposure\"],prefix=\"BsmtExposure\")\n",
    "df3=pd.concat([df3,tmp_BsmtExposure],axis=1).drop(columns=\"BsmtExposure\")\n",
    "\n",
    "tmp_BsmtFinType1=pd.get_dummies(df3[\"BsmtFinType1\"],prefix=\"BsmtFinType1\")\n",
    "df3=pd.concat([df3,tmp_BsmtFinType1],axis=1).drop(columns=\"BsmtFinType1\")\n",
    "\n",
    "tmp_BsmtFinType2=pd.get_dummies(df3[\"BsmtFinType2\"],prefix=\"BsmtFinType2\")\n",
    "df3=pd.concat([df3,tmp_BsmtFinType2],axis=1).drop(columns=\"BsmtFinType2\")\n",
    "\n",
    "tmp_Heating=pd.get_dummies(df3[\"Heating\"],prefix=\"Heating\")\n",
    "df3=pd.concat([df3,tmp_Heating],axis=1).drop(columns=\"Heating\")\n",
    "\n",
    "tmp_HeatingQC=pd.get_dummies(df3[\"HeatingQC\"],prefix=\"HeatingQC\")\n",
    "df3=pd.concat([df3,tmp_HeatingQC],axis=1).drop(columns=\"HeatingQC\")\n",
    "\n",
    "tmp_CentralAir=pd.get_dummies(df3[\"CentralAir\"],prefix=\"CentralAir\")\n",
    "df3=pd.concat([df3,tmp_CentralAir],axis=1).drop(columns=\"CentralAir\")\n",
    "\n",
    "tmp_Electrical=pd.get_dummies(df3[\"Electrical\"],prefix=\"Electrical\")\n",
    "df3=pd.concat([df3,tmp_Electrical],axis=1).drop(columns=\"Electrical\")\n",
    "\n",
    "tmp_KitchenQual=pd.get_dummies(df3[\"KitchenQual\"],prefix=\"KitchenQual\")\n",
    "df3=pd.concat([df3,tmp_KitchenQual],axis=1).drop(columns=\"KitchenQual\")\n",
    "\n",
    "tmp_Functional=pd.get_dummies(df3[\"Functional\"],prefix=\"Functional\")\n",
    "df3=pd.concat([df3,tmp_Functional],axis=1).drop(columns=\"Functional\")\n",
    "\n",
    "tmp_PavedDrive=pd.get_dummies(df3[\"PavedDrive\"],prefix=\"PavedDrive\")\n",
    "df3=pd.concat([df3,tmp_PavedDrive],axis=1).drop(columns=\"PavedDrive\")\n",
    "\n",
    "tmp_SaleType=pd.get_dummies(df3[\"SaleType\"],prefix=\"SaleType\")\n",
    "df3=pd.concat([df3,tmp_SaleType],axis=1).drop(columns=\"SaleType\")\n",
    "\n",
    "tmp_SaleCondition=pd.get_dummies(df3[\"SaleCondition\"],prefix=\"SaleCondition\")\n",
    "df3=pd.concat([df3,tmp_SaleCondition],axis=1).drop(columns=\"SaleCondition\")"
   ]
  },
  {
   "cell_type": "code",
   "execution_count": 13,
   "metadata": {},
   "outputs": [],
   "source": [
    "# 学習データに分割した結果を変数trainに格納する\n",
    "train=df3[~df3.SalePrice.isnull()]\n",
    "\n",
    "# テストデータに分割した結果を変数trainに格納する\n",
    "test=df3[df3.SalePrice.isnull()]\n",
    "\n",
    "# SalePriceを削除\n",
    "test=test.drop(columns=[\"SalePrice\"])\n",
    "\n",
    "# 正解をy_trainに格納する\n",
    "y_train=train.SalePrice\n",
    "\n",
    "# 特徴量をX_trainに格納する\n",
    "X_train=train.drop(columns=[\"SalePrice\"])"
   ]
  },
  {
   "cell_type": "code",
   "execution_count": 14,
   "metadata": {},
   "outputs": [],
   "source": [
    "# 決定木モデルの準備(回帰)\n",
    "model=tree.DecisionTreeRegressor()\n",
    "\n",
    "# 決定木モデルの作成\n",
    "model.fit(X_train,y_train)\n",
    "\n",
    "# 作成した決定木モデルを使った予測をおこなう\n",
    "y_pred=model.predict(test)"
   ]
  },
  {
   "cell_type": "code",
   "execution_count": 15,
   "metadata": {},
   "outputs": [
    {
     "data": {
      "text/plain": [
       "array([129000., 130000., 192000., ..., 148000.,  87000., 190000.])"
      ]
     },
     "execution_count": 15,
     "metadata": {},
     "output_type": "execute_result"
    }
   ],
   "source": [
    "# 予測結果の確認をする\n",
    "y_pred"
   ]
  },
  {
   "cell_type": "code",
   "execution_count": 16,
   "metadata": {},
   "outputs": [],
   "source": [
    "# テストデータと予測結果の大きさを確認する\n",
    "len(test),len(y_pred)\n",
    "\n",
    "# 予測結果をテストデータに反映する\n",
    "test[\"SalePrice\"]=y_pred\n",
    "\n",
    "# 提出用のデータマートを作成する\n",
    "pred_df=test[[\"Id\",\"SalePrice\"]].set_index(\"Id\")"
   ]
  },
  {
   "cell_type": "code",
   "execution_count": 17,
   "metadata": {},
   "outputs": [],
   "source": [
    "# CSVの作成\n",
    "pred_df.to_csv(\"predict.csv\",index_label=[\"Id\"])"
   ]
  },
  {
   "cell_type": "code",
   "execution_count": null,
   "metadata": {},
   "outputs": [],
   "source": []
  }
 ],
 "metadata": {
  "kernelspec": {
   "display_name": "Python 3",
   "language": "python",
   "name": "python3"
  },
  "language_info": {
   "codemirror_mode": {
    "name": "ipython",
    "version": 3
   },
   "file_extension": ".py",
   "mimetype": "text/x-python",
   "name": "python",
   "nbconvert_exporter": "python",
   "pygments_lexer": "ipython3",
   "version": "3.8.5"
  }
 },
 "nbformat": 4,
 "nbformat_minor": 4
}
