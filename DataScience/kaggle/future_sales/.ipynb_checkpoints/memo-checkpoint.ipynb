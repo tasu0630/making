{
 "cells": [
  {
   "cell_type": "code",
   "execution_count": null,
   "id": "b0e9fde9",
   "metadata": {},
   "outputs": [],
   "source": [
    "for i in range():\n",
    "    for j in range():\n",
    "        if sales_train.shop_id[i]==j:\n",
    "            \n",
    "            if sales_train.item_id[i]==shop_sale_data[i]"
   ]
  }
 ],
 "metadata": {
  "kernelspec": {
   "display_name": "Python 3",
   "language": "python",
   "name": "python3"
  },
  "language_info": {
   "codemirror_mode": {
    "name": "ipython",
    "version": 3
   },
   "file_extension": ".py",
   "mimetype": "text/x-python",
   "name": "python",
   "nbconvert_exporter": "python",
   "pygments_lexer": "ipython3",
   "version": "3.8.8"
  }
 },
 "nbformat": 4,
 "nbformat_minor": 5
}
