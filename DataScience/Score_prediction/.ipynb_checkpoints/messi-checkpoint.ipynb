{
 "cells": [
  {
   "cell_type": "code",
   "execution_count": 78,
   "id": "29a29cba",
   "metadata": {},
   "outputs": [],
   "source": [
    "from time import sleep\n",
    "from selenium import webdriver\n",
    "from selenium.webdriver.chrome.options import Options\n",
    "from selenium.webdriver.common.by import By\n",
    "import pandas as pd\n",
    "import numpy as np\n",
    "from selenium.webdriver.support.select import Select"
   ]
  },
  {
   "cell_type": "code",
   "execution_count": 125,
   "id": "63f678b4",
   "metadata": {},
   "outputs": [
    {
     "ename": "IndexError",
     "evalue": "list assignment index out of range",
     "output_type": "error",
     "traceback": [
      "\u001b[0;31m---------------------------------------------------------------------------\u001b[0m",
      "\u001b[0;31mIndexError\u001b[0m                                Traceback (most recent call last)",
      "\u001b[0;32m<ipython-input-125-6b4f967e6e8a>\u001b[0m in \u001b[0;36m<module>\u001b[0;34m\u001b[0m\n\u001b[1;32m     34\u001b[0m \u001b[0;32mwhile\u001b[0m \u001b[0;32mTrue\u001b[0m\u001b[0;34m:\u001b[0m\u001b[0;34m\u001b[0m\u001b[0;34m\u001b[0m\u001b[0m\n\u001b[1;32m     35\u001b[0m     \u001b[0;32mfor\u001b[0m \u001b[0melement\u001b[0m \u001b[0;32min\u001b[0m \u001b[0melements\u001b[0m\u001b[0;34m:\u001b[0m\u001b[0;34m\u001b[0m\u001b[0;34m\u001b[0m\u001b[0m\n\u001b[0;32m---> 36\u001b[0;31m         \u001b[0mtd\u001b[0m\u001b[0;34m[\u001b[0m\u001b[0mk\u001b[0m\u001b[0;34m]\u001b[0m\u001b[0;34m=\u001b[0m\u001b[0melement\u001b[0m\u001b[0;34m.\u001b[0m\u001b[0mfind_elements_by_tag_name\u001b[0m\u001b[0;34m(\u001b[0m\u001b[0;34m\"td\"\u001b[0m\u001b[0;34m)\u001b[0m\u001b[0;34m[\u001b[0m\u001b[0mj\u001b[0m\u001b[0;34m]\u001b[0m\u001b[0;34m.\u001b[0m\u001b[0mget_attribute\u001b[0m\u001b[0;34m(\u001b[0m\u001b[0;34m\"textContent\"\u001b[0m\u001b[0;34m)\u001b[0m\u001b[0;34m\u001b[0m\u001b[0;34m\u001b[0m\u001b[0m\n\u001b[0m\u001b[1;32m     37\u001b[0m         \u001b[0mtd\u001b[0m\u001b[0;34m[\u001b[0m\u001b[0mk\u001b[0m\u001b[0;34m+\u001b[0m\u001b[0;36m1\u001b[0m\u001b[0;34m]\u001b[0m\u001b[0;34m=\u001b[0m\u001b[0melement\u001b[0m\u001b[0;34m.\u001b[0m\u001b[0mfind_elements_by_class_name\u001b[0m\u001b[0;34m(\u001b[0m\u001b[0;34m\"date\"\u001b[0m\u001b[0;34m)\u001b[0m\u001b[0;34m[\u001b[0m\u001b[0ml\u001b[0m\u001b[0;34m]\u001b[0m\u001b[0;34m.\u001b[0m\u001b[0mget_attribute\u001b[0m\u001b[0;34m(\u001b[0m\u001b[0;34m\"textContent\"\u001b[0m\u001b[0;34m)\u001b[0m\u001b[0;34m\u001b[0m\u001b[0;34m\u001b[0m\u001b[0m\n\u001b[1;32m     38\u001b[0m         \u001b[0mtd\u001b[0m\u001b[0;34m[\u001b[0m\u001b[0mk\u001b[0m\u001b[0;34m+\u001b[0m\u001b[0;36m2\u001b[0m\u001b[0;34m]\u001b[0m\u001b[0;34m=\u001b[0m\u001b[0melement\u001b[0m\u001b[0;34m.\u001b[0m\u001b[0mfind_elements_by_tag_name\u001b[0m\u001b[0;34m(\u001b[0m\u001b[0;34m\"td\"\u001b[0m\u001b[0;34m)\u001b[0m\u001b[0;34m[\u001b[0m\u001b[0mj\u001b[0m\u001b[0;34m+\u001b[0m\u001b[0;36m2\u001b[0m\u001b[0;34m]\u001b[0m\u001b[0;34m.\u001b[0m\u001b[0mget_attribute\u001b[0m\u001b[0;34m(\u001b[0m\u001b[0;34m\"textContent\"\u001b[0m\u001b[0;34m)\u001b[0m\u001b[0;34m\u001b[0m\u001b[0;34m\u001b[0m\u001b[0m\n",
      "\u001b[0;31mIndexError\u001b[0m: list assignment index out of range"
     ]
    }
   ],
   "source": [
    "chrome_path = '/Users/tasuke0630/making/scraping/chromedriver'\n",
    "\n",
    "options=Options()\n",
    "options.add_argument(\"--incognito\")\n",
    "\n",
    "driver=webdriver.Chrome(executable_path=chrome_path,options=options)\n",
    "url=\"https://www.whoscored.com/Players/11119/MatchStatistics/Lionel-Messi\"\n",
    "driver.get(url)\n",
    "\n",
    "sleep(3)         \n",
    "\n",
    "x=driver.find_element_by_link_text(\"Offensive\")\n",
    "x.click()\n",
    "sleep(3)\n",
    "\n",
    "height=0\n",
    "while height<5000:\n",
    "    driver.execute_script(\"window.scrollTo(0,{});\".format(height))\n",
    "    height+=500\n",
    "    sleep(1)\n",
    "\n",
    "#要素を選択\n",
    "elements=driver.find_elements_by_class_name(\"ws-panel\")\n",
    "\n",
    "#list、変数の作成\n",
    "td=[0]*448\n",
    "t_list=[]\n",
    "i=1\n",
    "j=1\n",
    "k=0\n",
    "l=0\n",
    "\n",
    "#32x14=448\n",
    "while True:\n",
    "    for element in elements:\n",
    "        td[k]=element.find_elements_by_tag_name(\"td\")[j].get_attribute(\"textContent\")\n",
    "        td[k+1]=element.find_elements_by_class_name(\"date\")[l].get_attribute(\"textContent\")\n",
    "        td[k+2]=element.find_elements_by_tag_name(\"td\")[j+2].get_attribute(\"textContent\")\n",
    "        td[k+3]=element.find_elements_by_class_name(\"minsPlayed\")[i].get_attribute(\"textContent\")\n",
    "        td[k+4]=element.find_elements_by_class_name(\"goalTotal\")[i].get_attribute(\"textContent\")\n",
    "        td[k+5]=element.find_elements_by_class_name(\"assist\")[i].get_attribute(\"textContent\")\n",
    "        td[k+6]=element.find_elements_by_class_name(\"shotsTotal\")[i].get_attribute(\"textContent\")  \n",
    "        td[k+7]=element.find_elements_by_class_name(\"keyPassesTotal\")[i].get_attribute(\"textContent\")\n",
    "        td[k+8]=element.find_elements_by_class_name(\"dribbleWon\")[i].get_attribute(\"textContent\")\n",
    "        td[k+9]=element.find_elements_by_class_name(\"foulGiven\")[i].get_attribute(\"textContent\")\n",
    "        td[k+10]=element.find_elements_by_class_name(\"offsideGiven\")[i].get_attribute(\"textContent\")\n",
    "        td[k+11]=element.find_elements_by_class_name(\"dispossessed\")[i].get_attribute(\"textContent\")\n",
    "        td[k+12]=element.find_elements_by_class_name(\"turnover\")[i].get_attribute(\"textContent\")\n",
    "        td[k+13]=element.find_elements_by_class_name(\"rating\")[i].get_attribute(\"textContent\")\n",
    "        i+=1\n",
    "        j+=13\n",
    "        k+=14\n",
    "        l+=1\n",
    "        if i==32:\n",
    "            break\n",
    "\n",
    "driver.quit()"
   ]
  },
  {
   "cell_type": "code",
   "execution_count": 127,
   "id": "8f8c37c4",
   "metadata": {},
   "outputs": [],
   "source": [
    "i=0\n",
    "t_list=[]\n",
    "\n",
    "for j in range(32):\n",
    "    tmp={\n",
    "        \"Opponent\":td[i],\n",
    "        \"Date\":td[i+1],\n",
    "        \"Position\":td[i+2],\n",
    "        \"Mins\":td[i+3],\n",
    "        \"Goals\":td[i+4],\n",
    "        \"Assists\":td[i+5],\n",
    "        \"Shots\":td[i+6],\n",
    "        \"keyP\":td[i+7],\n",
    "        \"Drb\":td[i+8],\n",
    "        \"Fouled\":td[i+9],\n",
    "        \"Off\":td[i+10],\n",
    "        \"Disp\":td[i+11],\n",
    "        \"UnsTch\":td[i+12],\n",
    "        \"Rating\":td[i+13],\n",
    "    }\n",
    "    \n",
    "    t_list.append(tmp)\n",
    "    i+=14\n",
    "\n",
    "    sleep(1)"
   ]
  },
  {
   "cell_type": "code",
   "execution_count": 128,
   "id": "012334c7",
   "metadata": {},
   "outputs": [],
   "source": [
    "df=pd.DataFrame(t_list)\n",
    "df.to_csv(\"data.csv\")"
   ]
  },
  {
   "cell_type": "code",
   "execution_count": null,
   "id": "a89b7767",
   "metadata": {},
   "outputs": [],
   "source": []
  },
  {
   "cell_type": "code",
   "execution_count": null,
   "id": "8dfc5883",
   "metadata": {},
   "outputs": [],
   "source": []
  },
  {
   "cell_type": "code",
   "execution_count": null,
   "id": "09d1bf74",
   "metadata": {},
   "outputs": [],
   "source": []
  },
  {
   "cell_type": "code",
   "execution_count": null,
   "id": "8cc340cc",
   "metadata": {},
   "outputs": [],
   "source": []
  },
  {
   "cell_type": "code",
   "execution_count": null,
   "id": "557ce722",
   "metadata": {},
   "outputs": [],
   "source": []
  }
 ],
 "metadata": {
  "kernelspec": {
   "display_name": "Python 3",
   "language": "python",
   "name": "python3"
  },
  "language_info": {
   "codemirror_mode": {
    "name": "ipython",
    "version": 3
   },
   "file_extension": ".py",
   "mimetype": "text/x-python",
   "name": "python",
   "nbconvert_exporter": "python",
   "pygments_lexer": "ipython3",
   "version": "3.8.8"
  }
 },
 "nbformat": 4,
 "nbformat_minor": 5
}
