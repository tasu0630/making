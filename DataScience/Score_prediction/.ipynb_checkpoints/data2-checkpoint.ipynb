{
 "cells": [
  {
   "cell_type": "code",
   "execution_count": 1,
   "id": "575bdfe0",
   "metadata": {},
   "outputs": [],
   "source": [
    "import numpy as np\n",
    "import pandas as pd\n",
    "import matplotlib.pyplot as plt\n",
    "import seaborn as sns\n",
    "\n",
    "import warnings\n",
    "import csv\n",
    "from sklearn.metrics import classification_report\n",
    "from lightgbm import LGBMClassifier\n",
    "import joblib"
   ]
  },
  {
   "cell_type": "code",
   "execution_count": 2,
   "id": "01eb5d41",
   "metadata": {},
   "outputs": [
    {
     "data": {
      "text/html": [
       "<div>\n",
       "<style scoped>\n",
       "    .dataframe tbody tr th:only-of-type {\n",
       "        vertical-align: middle;\n",
       "    }\n",
       "\n",
       "    .dataframe tbody tr th {\n",
       "        vertical-align: top;\n",
       "    }\n",
       "\n",
       "    .dataframe thead th {\n",
       "        text-align: right;\n",
       "    }\n",
       "</style>\n",
       "<table border=\"1\" class=\"dataframe\">\n",
       "  <thead>\n",
       "    <tr style=\"text-align: right;\">\n",
       "      <th></th>\n",
       "      <th>Mins</th>\n",
       "      <th>Shots</th>\n",
       "      <th>Rating</th>\n",
       "      <th>Goals</th>\n",
       "      <th>Assists</th>\n",
       "      <th>keyP</th>\n",
       "      <th>Drb</th>\n",
       "      <th>Fouled</th>\n",
       "      <th>Off</th>\n",
       "      <th>Disp</th>\n",
       "      <th>UnsTch</th>\n",
       "      <th>Position_AMC</th>\n",
       "      <th>Position_AMR</th>\n",
       "      <th>Position_FW</th>\n",
       "      <th>Position_Sub</th>\n",
       "    </tr>\n",
       "  </thead>\n",
       "  <tbody>\n",
       "    <tr>\n",
       "      <th>0</th>\n",
       "      <td>90</td>\n",
       "      <td>5</td>\n",
       "      <td>9.18</td>\n",
       "      <td>2</td>\n",
       "      <td>0</td>\n",
       "      <td>1</td>\n",
       "      <td>7</td>\n",
       "      <td>3</td>\n",
       "      <td>0</td>\n",
       "      <td>2</td>\n",
       "      <td>2</td>\n",
       "      <td>0</td>\n",
       "      <td>0</td>\n",
       "      <td>1</td>\n",
       "      <td>0</td>\n",
       "    </tr>\n",
       "    <tr>\n",
       "      <th>1</th>\n",
       "      <td>90</td>\n",
       "      <td>6</td>\n",
       "      <td>7.83</td>\n",
       "      <td>1</td>\n",
       "      <td>0</td>\n",
       "      <td>2</td>\n",
       "      <td>3</td>\n",
       "      <td>6</td>\n",
       "      <td>0</td>\n",
       "      <td>2</td>\n",
       "      <td>3</td>\n",
       "      <td>0</td>\n",
       "      <td>0</td>\n",
       "      <td>1</td>\n",
       "      <td>0</td>\n",
       "    </tr>\n",
       "    <tr>\n",
       "      <th>2</th>\n",
       "      <td>90</td>\n",
       "      <td>3</td>\n",
       "      <td>6.78</td>\n",
       "      <td>0</td>\n",
       "      <td>0</td>\n",
       "      <td>0</td>\n",
       "      <td>2</td>\n",
       "      <td>6</td>\n",
       "      <td>0</td>\n",
       "      <td>4</td>\n",
       "      <td>2</td>\n",
       "      <td>0</td>\n",
       "      <td>0</td>\n",
       "      <td>1</td>\n",
       "      <td>0</td>\n",
       "    </tr>\n",
       "    <tr>\n",
       "      <th>3</th>\n",
       "      <td>90</td>\n",
       "      <td>7</td>\n",
       "      <td>10.00</td>\n",
       "      <td>2</td>\n",
       "      <td>1</td>\n",
       "      <td>1</td>\n",
       "      <td>2</td>\n",
       "      <td>4</td>\n",
       "      <td>0</td>\n",
       "      <td>1</td>\n",
       "      <td>1</td>\n",
       "      <td>0</td>\n",
       "      <td>0</td>\n",
       "      <td>1</td>\n",
       "      <td>0</td>\n",
       "    </tr>\n",
       "    <tr>\n",
       "      <th>4</th>\n",
       "      <td>90</td>\n",
       "      <td>7</td>\n",
       "      <td>7.84</td>\n",
       "      <td>0</td>\n",
       "      <td>0</td>\n",
       "      <td>2</td>\n",
       "      <td>7</td>\n",
       "      <td>3</td>\n",
       "      <td>0</td>\n",
       "      <td>6</td>\n",
       "      <td>1</td>\n",
       "      <td>1</td>\n",
       "      <td>0</td>\n",
       "      <td>0</td>\n",
       "      <td>0</td>\n",
       "    </tr>\n",
       "  </tbody>\n",
       "</table>\n",
       "</div>"
      ],
      "text/plain": [
       "   Mins  Shots  Rating  Goals  Assists  keyP  Drb  Fouled  Off  Disp  UnsTch  \\\n",
       "0    90      5    9.18      2        0     1    7       3    0     2       2   \n",
       "1    90      6    7.83      1        0     2    3       6    0     2       3   \n",
       "2    90      3    6.78      0        0     0    2       6    0     4       2   \n",
       "3    90      7   10.00      2        1     1    2       4    0     1       1   \n",
       "4    90      7    7.84      0        0     2    7       3    0     6       1   \n",
       "\n",
       "   Position_AMC  Position_AMR  Position_FW  Position_Sub  \n",
       "0             0             0            1             0  \n",
       "1             0             0            1             0  \n",
       "2             0             0            1             0  \n",
       "3             0             0            1             0  \n",
       "4             1             0            0             0  "
      ]
     },
     "execution_count": 2,
     "metadata": {},
     "output_type": "execute_result"
    }
   ],
   "source": [
    "df=pd.read_csv(\"/Users/tasuke0630/making/DataScience/Score_prediction/graph_material.csv\")\n",
    "train_df=df.copy()\n",
    "train_df=train_df.rename(columns={df.columns[0] :\"a\"})\n",
    "\n",
    "#使わないカラムを削除する\n",
    "df2=train_df.drop(columns=[\"a\"])\n",
    "df2.head()"
   ]
  },
  {
   "cell_type": "code",
   "execution_count": 3,
   "id": "daae39dd",
   "metadata": {},
   "outputs": [],
   "source": [
    "warnings.simplefilter(\"ignore\")\n",
    "list_x=df2.loc[:,\"Goals\"]\n",
    "for i in range(len(list_x)):\n",
    "    if list_x[i]>=1:\n",
    "        list_x[i]=1\n",
    "\n",
    "df2=df2.drop(columns=\"Goals\")\n",
    "x=pd.DataFrame(list_x)\n",
    "train=pd.concat([df2,x],axis=1)"
   ]
  },
  {
   "cell_type": "code",
   "execution_count": 4,
   "id": "c4c947da",
   "metadata": {},
   "outputs": [],
   "source": [
    "#trainのデータ\n",
    "train_x=train.drop(columns=[\"Goals\"])\n",
    "train_y=train[\"Goals\"]"
   ]
  },
  {
   "cell_type": "code",
   "execution_count": 5,
   "id": "0ce11c2e",
   "metadata": {},
   "outputs": [],
   "source": [
    "clf=LGBMClassifier(boosting_type=\"gbdt\",\n",
    "                      objective=\"binary\",\n",
    "                      metric=\"binary_logloss\",\n",
    "                      seed=10,\n",
    "                      n_estimators=1000,\n",
    "                      num_leaves=5,\n",
    "                      max_depth=3,\n",
    "                      learning_rate=0.01)"
   ]
  },
  {
   "cell_type": "code",
   "execution_count": 6,
   "id": "ae025394",
   "metadata": {},
   "outputs": [
    {
     "data": {
      "text/plain": [
       "LGBMClassifier(learning_rate=0.01, max_depth=3, metric='binary_logloss',\n",
       "               n_estimators=1000, num_leaves=5, objective='binary', seed=10)"
      ]
     },
     "execution_count": 6,
     "metadata": {},
     "output_type": "execute_result"
    }
   ],
   "source": [
    "clf.fit(train_x,train_y)"
   ]
  },
  {
   "cell_type": "code",
   "execution_count": 7,
   "id": "ac876e0e",
   "metadata": {},
   "outputs": [],
   "source": [
    "test=pd.DataFrame([[90,3,8.23,0,3,5,9,0,1,0,0,0,1,0]],columns=[\"Mins\",\"Shots\",\"Rating\",\"Asists\",\"keyP\",\"Drb\",\"Fouled\",\"Off\",\"Disp\",\"UnsTch\",\n",
    "                                                       \"Position_AMC\",\"Position_AMR\",\"Position_FW\",\"Position_Sub\"])"
   ]
  },
  {
   "cell_type": "code",
   "execution_count": 8,
   "id": "c10d2932",
   "metadata": {},
   "outputs": [
    {
     "data": {
      "text/plain": [
       "array([1])"
      ]
     },
     "execution_count": 8,
     "metadata": {},
     "output_type": "execute_result"
    }
   ],
   "source": [
    "x1=clf.predict(test)\n",
    "x1"
   ]
  },
  {
   "cell_type": "code",
   "execution_count": 9,
   "id": "f7f1b741",
   "metadata": {},
   "outputs": [],
   "source": [
    "test2=pd.DataFrame([[90,6,7.75,0,3,3,1,1,0,0,0,0,1,0]],columns=[\"Mins\",\"Shots\",\"Rating\",\"Asists\",\"keyP\",\"Drb\",\"Fouled\",\"Off\",\"Disp\",\"UnsTch\",\n",
    "                                                       \"Position_AMC\",\"Position_AMR\",\"Position_FW\",\"Position_Sub\"])"
   ]
  },
  {
   "cell_type": "code",
   "execution_count": 10,
   "id": "a7b4e822",
   "metadata": {},
   "outputs": [
    {
     "data": {
      "text/plain": [
       "array([1])"
      ]
     },
     "execution_count": 10,
     "metadata": {},
     "output_type": "execute_result"
    }
   ],
   "source": [
    "x2=clf.predict(test2)\n",
    "x2"
   ]
  },
  {
   "cell_type": "code",
   "execution_count": 11,
   "id": "f3212d3f",
   "metadata": {},
   "outputs": [],
   "source": [
    "test3=pd.DataFrame([[90,7,9.79,0,2,14,1,0,5,3,0,0,1,0]],columns=[\"Mins\",\"Shots\",\"Rating\",\"Asists\",\"keyP\",\"Drb\",\"Fouled\",\"Off\",\"Disp\",\"UnsTch\",\n",
    "                                                       \"Position_AMC\",\"Position_AMR\",\"Position_FW\",\"Position_Sub\"])"
   ]
  },
  {
   "cell_type": "code",
   "execution_count": 12,
   "id": "80e6b934",
   "metadata": {},
   "outputs": [
    {
     "data": {
      "text/plain": [
       "array([1])"
      ]
     },
     "execution_count": 12,
     "metadata": {},
     "output_type": "execute_result"
    }
   ],
   "source": [
    "x3=clf.predict(test3)\n",
    "x3"
   ]
  },
  {
   "cell_type": "code",
   "execution_count": 27,
   "id": "4890dc5d",
   "metadata": {},
   "outputs": [],
   "source": [
    "test4=pd.DataFrame([[90,0,0.00,0,0,0,0,0,0,0,0,0,0,0]],columns=[\"Mins\",\"Shots\",\"Rating\",\"Asists\",\"keyP\",\"Drb\",\"Fouled\",\"Off\",\"Disp\",\"UnsTch\",\n",
    "                                                       \"Position_AMC\",\"Position_AMR\",\"Position_FW\",\"Position_Sub\"])"
   ]
  },
  {
   "cell_type": "code",
   "execution_count": 28,
   "id": "a7e9090f",
   "metadata": {},
   "outputs": [
    {
     "data": {
      "text/plain": [
       "array([0])"
      ]
     },
     "execution_count": 28,
     "metadata": {},
     "output_type": "execute_result"
    }
   ],
   "source": [
    "x4=clf.predict(test4)\n",
    "x4"
   ]
  },
  {
   "cell_type": "code",
   "execution_count": 15,
   "id": "c30bcaab",
   "metadata": {},
   "outputs": [],
   "source": [
    "from sklearn.ensemble import RandomForestClassifier"
   ]
  },
  {
   "cell_type": "code",
   "execution_count": 16,
   "id": "88a47c4a",
   "metadata": {},
   "outputs": [],
   "source": [
    "clf=RandomForestClassifier(random_state=0,\n",
    "                                       n_estimators=300,\n",
    "                                       criterion=\"gini\",\n",
    "                                       max_depth=6,\n",
    "                                       oob_score=True,\n",
    "                                       warm_start=False,\n",
    "                                      class_weight=None)"
   ]
  },
  {
   "cell_type": "code",
   "execution_count": 18,
   "id": "206d91f9",
   "metadata": {},
   "outputs": [
    {
     "data": {
      "text/plain": [
       "RandomForestClassifier(max_depth=6, n_estimators=300, oob_score=True,\n",
       "                       random_state=0)"
      ]
     },
     "execution_count": 18,
     "metadata": {},
     "output_type": "execute_result"
    }
   ],
   "source": [
    "clf.fit(train_x,train_y)"
   ]
  },
  {
   "cell_type": "code",
   "execution_count": 19,
   "id": "abd03cb1",
   "metadata": {},
   "outputs": [
    {
     "data": {
      "text/plain": [
       "array([1])"
      ]
     },
     "execution_count": 19,
     "metadata": {},
     "output_type": "execute_result"
    }
   ],
   "source": [
    "x1=clf.predict(test)\n",
    "x1"
   ]
  },
  {
   "cell_type": "code",
   "execution_count": 20,
   "id": "1a27ff16",
   "metadata": {},
   "outputs": [
    {
     "data": {
      "text/plain": [
       "array([1])"
      ]
     },
     "execution_count": 20,
     "metadata": {},
     "output_type": "execute_result"
    }
   ],
   "source": [
    "x4=clf.predict(test4)\n",
    "x4"
   ]
  },
  {
   "cell_type": "code",
   "execution_count": null,
   "id": "949e1f62",
   "metadata": {},
   "outputs": [],
   "source": []
  }
 ],
 "metadata": {
  "kernelspec": {
   "display_name": "Python 3",
   "language": "python",
   "name": "python3"
  },
  "language_info": {
   "codemirror_mode": {
    "name": "ipython",
    "version": 3
   },
   "file_extension": ".py",
   "mimetype": "text/x-python",
   "name": "python",
   "nbconvert_exporter": "python",
   "pygments_lexer": "ipython3",
   "version": "3.8.8"
  }
 },
 "nbformat": 4,
 "nbformat_minor": 5
}
