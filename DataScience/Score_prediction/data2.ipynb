{
 "cells": [
  {
   "cell_type": "code",
   "execution_count": 62,
   "id": "575bdfe0",
   "metadata": {},
   "outputs": [],
   "source": [
    "import numpy as np\n",
    "import pandas as pd\n",
    "import matplotlib.pyplot as plt\n",
    "import seaborn as sns\n",
    "\n",
    "import warnings\n",
    "import csv\n",
    "from sklearn.metrics import classification_report\n",
    "from lightgbm import LGBMClassifier\n",
    "import joblib"
   ]
  },
  {
   "cell_type": "code",
   "execution_count": 63,
   "id": "01eb5d41",
   "metadata": {},
   "outputs": [
    {
     "data": {
      "text/html": [
       "<div>\n",
       "<style scoped>\n",
       "    .dataframe tbody tr th:only-of-type {\n",
       "        vertical-align: middle;\n",
       "    }\n",
       "\n",
       "    .dataframe tbody tr th {\n",
       "        vertical-align: top;\n",
       "    }\n",
       "\n",
       "    .dataframe thead th {\n",
       "        text-align: right;\n",
       "    }\n",
       "</style>\n",
       "<table border=\"1\" class=\"dataframe\">\n",
       "  <thead>\n",
       "    <tr style=\"text-align: right;\">\n",
       "      <th></th>\n",
       "      <th>Mins</th>\n",
       "      <th>Shots</th>\n",
       "      <th>Rating</th>\n",
       "      <th>Goals</th>\n",
       "      <th>Assists</th>\n",
       "      <th>keyP</th>\n",
       "      <th>Drb</th>\n",
       "      <th>Fouled</th>\n",
       "      <th>Off</th>\n",
       "      <th>Disp</th>\n",
       "      <th>UnsTch</th>\n",
       "      <th>Position_AMC</th>\n",
       "      <th>Position_AMR</th>\n",
       "      <th>Position_FW</th>\n",
       "      <th>Position_Sub</th>\n",
       "    </tr>\n",
       "  </thead>\n",
       "  <tbody>\n",
       "    <tr>\n",
       "      <th>0</th>\n",
       "      <td>90</td>\n",
       "      <td>5</td>\n",
       "      <td>9.18</td>\n",
       "      <td>2</td>\n",
       "      <td>0</td>\n",
       "      <td>1</td>\n",
       "      <td>7</td>\n",
       "      <td>3</td>\n",
       "      <td>0</td>\n",
       "      <td>2</td>\n",
       "      <td>2</td>\n",
       "      <td>0</td>\n",
       "      <td>0</td>\n",
       "      <td>1</td>\n",
       "      <td>0</td>\n",
       "    </tr>\n",
       "    <tr>\n",
       "      <th>1</th>\n",
       "      <td>90</td>\n",
       "      <td>6</td>\n",
       "      <td>7.83</td>\n",
       "      <td>1</td>\n",
       "      <td>0</td>\n",
       "      <td>2</td>\n",
       "      <td>3</td>\n",
       "      <td>6</td>\n",
       "      <td>0</td>\n",
       "      <td>2</td>\n",
       "      <td>3</td>\n",
       "      <td>0</td>\n",
       "      <td>0</td>\n",
       "      <td>1</td>\n",
       "      <td>0</td>\n",
       "    </tr>\n",
       "    <tr>\n",
       "      <th>2</th>\n",
       "      <td>90</td>\n",
       "      <td>3</td>\n",
       "      <td>6.78</td>\n",
       "      <td>0</td>\n",
       "      <td>0</td>\n",
       "      <td>0</td>\n",
       "      <td>2</td>\n",
       "      <td>6</td>\n",
       "      <td>0</td>\n",
       "      <td>4</td>\n",
       "      <td>2</td>\n",
       "      <td>0</td>\n",
       "      <td>0</td>\n",
       "      <td>1</td>\n",
       "      <td>0</td>\n",
       "    </tr>\n",
       "    <tr>\n",
       "      <th>3</th>\n",
       "      <td>90</td>\n",
       "      <td>7</td>\n",
       "      <td>10.00</td>\n",
       "      <td>2</td>\n",
       "      <td>1</td>\n",
       "      <td>1</td>\n",
       "      <td>2</td>\n",
       "      <td>4</td>\n",
       "      <td>0</td>\n",
       "      <td>1</td>\n",
       "      <td>1</td>\n",
       "      <td>0</td>\n",
       "      <td>0</td>\n",
       "      <td>1</td>\n",
       "      <td>0</td>\n",
       "    </tr>\n",
       "    <tr>\n",
       "      <th>4</th>\n",
       "      <td>90</td>\n",
       "      <td>7</td>\n",
       "      <td>7.84</td>\n",
       "      <td>0</td>\n",
       "      <td>0</td>\n",
       "      <td>2</td>\n",
       "      <td>7</td>\n",
       "      <td>3</td>\n",
       "      <td>0</td>\n",
       "      <td>6</td>\n",
       "      <td>1</td>\n",
       "      <td>1</td>\n",
       "      <td>0</td>\n",
       "      <td>0</td>\n",
       "      <td>0</td>\n",
       "    </tr>\n",
       "  </tbody>\n",
       "</table>\n",
       "</div>"
      ],
      "text/plain": [
       "   Mins  Shots  Rating  Goals  Assists  keyP  Drb  Fouled  Off  Disp  UnsTch  \\\n",
       "0    90      5    9.18      2        0     1    7       3    0     2       2   \n",
       "1    90      6    7.83      1        0     2    3       6    0     2       3   \n",
       "2    90      3    6.78      0        0     0    2       6    0     4       2   \n",
       "3    90      7   10.00      2        1     1    2       4    0     1       1   \n",
       "4    90      7    7.84      0        0     2    7       3    0     6       1   \n",
       "\n",
       "   Position_AMC  Position_AMR  Position_FW  Position_Sub  \n",
       "0             0             0            1             0  \n",
       "1             0             0            1             0  \n",
       "2             0             0            1             0  \n",
       "3             0             0            1             0  \n",
       "4             1             0            0             0  "
      ]
     },
     "execution_count": 63,
     "metadata": {},
     "output_type": "execute_result"
    }
   ],
   "source": [
    "df=pd.read_csv(\"/Users/tasuke0630/making/DataScience/Score_prediction/graph_material.csv\")\n",
    "train_df=df.copy()\n",
    "train_df=train_df.rename(columns={df.columns[0] :\"a\"})\n",
    "\n",
    "#使わないカラムを削除する\n",
    "df2=train_df.drop(columns=[\"a\"])\n",
    "df2.head()"
   ]
  },
  {
   "cell_type": "code",
   "execution_count": 64,
   "id": "daae39dd",
   "metadata": {},
   "outputs": [],
   "source": [
    "warnings.simplefilter(\"ignore\")\n",
    "list_x=df2.loc[:,\"Goals\"]\n",
    "for i in range(len(list_x)):\n",
    "    if list_x[i]>1:\n",
    "        list_x[i]=1\n",
    "\n",
    "df2=df2.drop(columns=\"Goals\")\n",
    "x1=pd.DataFrame(list_x)\n",
    "train=pd.concat([df2,x1],axis=1)"
   ]
  },
  {
   "cell_type": "code",
   "execution_count": 65,
   "id": "c4c947da",
   "metadata": {},
   "outputs": [],
   "source": [
    "#trainのデータ\n",
    "train_x=train.drop(columns=[\"Goals\"])\n",
    "train_y=train[\"Goals\"]"
   ]
  },
  {
   "cell_type": "code",
   "execution_count": 71,
   "id": "0ce11c2e",
   "metadata": {},
   "outputs": [],
   "source": [
    "clf=LGBMClassifier(boosting_type=\"gbdt\",\n",
    "                      objective=\"binary\",\n",
    "                      metric=\"auc\",\n",
    "                      seed=0,\n",
    "                      n_estimators=480,\n",
    "                      num_leaves=5,\n",
    "                      max_depth=3,\n",
    "                      learning_rate=0.01)"
   ]
  },
  {
   "cell_type": "code",
   "execution_count": 72,
   "id": "ae025394",
   "metadata": {},
   "outputs": [
    {
     "data": {
      "text/plain": [
       "LGBMClassifier(learning_rate=0.01, max_depth=3, metric='auc', n_estimators=480,\n",
       "               num_leaves=5, objective='binary', seed=0)"
      ]
     },
     "execution_count": 72,
     "metadata": {},
     "output_type": "execute_result"
    }
   ],
   "source": [
    "clf.fit(train_x,train_y)"
   ]
  },
  {
   "cell_type": "code",
   "execution_count": 73,
   "id": "ac876e0e",
   "metadata": {},
   "outputs": [],
   "source": [
    "test=pd.DataFrame([[90,3,8.23,0,3,5,9,0,1,0,0,0,1,0]],columns=[\"Mins\",\"Shots\",\"Rating\",\"Asists\",\"keyP\",\"Drb\",\"Fouled\",\"Off\",\"Disp\",\"UnsTch\",\n",
    "                                                       \"Position_AMC\",\"Position_AMR\",\"Position_FW\",\"Position_Sub\"])"
   ]
  },
  {
   "cell_type": "code",
   "execution_count": 74,
   "id": "c10d2932",
   "metadata": {},
   "outputs": [],
   "source": [
    "x=clf.predict(test)"
   ]
  },
  {
   "cell_type": "code",
   "execution_count": 76,
   "id": "f7f1b741",
   "metadata": {},
   "outputs": [
    {
     "data": {
      "text/plain": [
       "array([1])"
      ]
     },
     "execution_count": 76,
     "metadata": {},
     "output_type": "execute_result"
    }
   ],
   "source": [
    "x"
   ]
  },
  {
   "cell_type": "code",
   "execution_count": null,
   "id": "a7b4e822",
   "metadata": {},
   "outputs": [],
   "source": []
  }
 ],
 "metadata": {
  "kernelspec": {
   "display_name": "Python 3",
   "language": "python",
   "name": "python3"
  },
  "language_info": {
   "codemirror_mode": {
    "name": "ipython",
    "version": 3
   },
   "file_extension": ".py",
   "mimetype": "text/x-python",
   "name": "python",
   "nbconvert_exporter": "python",
   "pygments_lexer": "ipython3",
   "version": "3.8.8"
  }
 },
 "nbformat": 4,
 "nbformat_minor": 5
}
